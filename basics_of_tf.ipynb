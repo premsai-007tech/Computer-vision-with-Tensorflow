{
  "nbformat": 4,
  "nbformat_minor": 0,
  "metadata": {
    "colab": {
      "name": "Untitled0.ipynb",
      "provenance": [],
      "collapsed_sections": [],
      "include_colab_link": true
    },
    "kernelspec": {
      "name": "python3",
      "display_name": "Python 3"
    }
  },
  "cells": [
    {
      "cell_type": "markdown",
      "metadata": {
        "id": "view-in-github",
        "colab_type": "text"
      },
      "source": [
        "<a href=\"https://colab.research.google.com/github/premsai-007tech/Computer-vision-with-Tensorflow/blob/master/basics_of_tf.ipynb\" target=\"_parent\"><img src=\"https://colab.research.google.com/assets/colab-badge.svg\" alt=\"Open In Colab\"/></a>"
      ]
    },
    {
      "cell_type": "code",
      "metadata": {
        "id": "qEZpm2hm_hdo",
        "colab_type": "code",
        "colab": {}
      },
      "source": [
        "import tensorflow as tf\n"
      ],
      "execution_count": 0,
      "outputs": []
    },
    {
      "cell_type": "code",
      "metadata": {
        "id": "bC_wd_MH4bzk",
        "colab_type": "code",
        "outputId": "ba34fea3-9475-472b-9fc7-d72861f46032",
        "colab": {
          "base_uri": "https://localhost:8080/",
          "height": 52
        }
      },
      "source": [
        "b = tf.constant(3)\n",
        "a = b + 3\n",
        "c = a + 2\n",
        "d = c*4\n",
        "with tf.Session() as sess:\n",
        "      print(c.eval())\n",
        "      print(d.eval())\n"
      ],
      "execution_count": 10,
      "outputs": [
        {
          "output_type": "stream",
          "text": [
            "8\n",
            "32\n"
          ],
          "name": "stdout"
        }
      ]
    },
    {
      "cell_type": "markdown",
      "metadata": {
        "id": "of2EjleS-Taa",
        "colab_type": "text"
      },
      "source": [
        "The idea of this code is to understand that;\n",
        "1.How tensorflow is able to do distributed computing across multiple servers\n",
        "2.How sessions operate invidually.\n",
        "Answers:\n",
        "1.As,above for evaluating c variable,it must evaluate a ; tensorflow automatically evaluates that:\n",
        "  Now,the interesting issue is that for evaluation of d,again tensorflow starts its computation from a,b,c again.\n",
        "  This way,individual servers understand variable states in the each and every session,so thus distributed computing is possible."
      ]
    },
    {
      "cell_type": "code",
      "metadata": {
        "id": "EaMhpkqt4qSB",
        "colab_type": "code",
        "colab": {}
      },
      "source": [
        "\n"
      ],
      "execution_count": 0,
      "outputs": []
    },
    {
      "cell_type": "code",
      "metadata": {
        "id": "XibnS1tNTG1J",
        "colab_type": "code",
        "colab": {}
      },
      "source": [
        ""
      ],
      "execution_count": 0,
      "outputs": []
    },
    {
      "cell_type": "markdown",
      "metadata": {
        "id": "cl91PpomVl3q",
        "colab_type": "text"
      },
      "source": [
        ""
      ]
    },
    {
      "cell_type": "markdown",
      "metadata": {
        "id": "lxxWa223VmmW",
        "colab_type": "text"
      },
      "source": [
        "\n",
        "\n",
        "\n",
        "\n",
        "\n"
      ]
    }
  ]
}